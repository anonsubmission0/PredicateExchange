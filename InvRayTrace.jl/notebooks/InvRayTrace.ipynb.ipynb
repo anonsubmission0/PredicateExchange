{
 "cells": [
  {
   "cell_type": "code",
   "execution_count": 1,
   "metadata": {},
   "outputs": [
    {
     "name": "stderr",
     "output_type": "stream",
     "text": [
      "┌ Info: Precompiling InvRayTrace [8a45d79e-a589-11e8-1025-51d29e337d7e]\n",
      "└ @ Base loading.jl:1192\n",
      "┌ Warning: Package InvRayTrace does not have DataFrames in its dependencies:\n",
      "│ - If you have InvRayTrace checked out for development and have\n",
      "│   added DataFrames as a dependency but haven't updated your primary\n",
      "│   environment's manifest file, try `Pkg.resolve()`.\n",
      "│ - Otherwise you may need to report an issue with InvRayTrace\n",
      "│ Loading DataFrames into InvRayTrace from project dependency, future warnings for InvRayTrace are suppressed.\n",
      "└ @ nothing nothing:840\n"
     ]
    },
    {
     "name": "stdout",
     "output_type": "stream",
     "text": [
      "loaded\n"
     ]
    },
    {
     "name": "stderr",
     "output_type": "stream",
     "text": [
      "WARNING: could not import RayTrace.nointersect into Main\n"
     ]
    }
   ],
   "source": [
    "using InvRayTrace\n",
    "using InvRayTrace: Img\n",
    "using Omega\n",
    "using RayTrace\n",
    "import RayTrace\n",
    "import RayTrace: ListScene, rgb, msphere, Vec3, Sphere, Scene, render, nointersect\n",
    "import GeometryTypes: Point, Vec3"
   ]
  },
  {
   "cell_type": "markdown",
   "metadata": {},
   "source": [
    "Render at 224 by 224 because"
   ]
  },
  {
   "cell_type": "code",
   "execution_count": 4,
   "metadata": {},
   "outputs": [
    {
     "data": {
      "text/plain": [
       "rendersquare (generic function with 1 method)"
      ]
     },
     "execution_count": 4,
     "metadata": {},
     "output_type": "execute_result"
    }
   ],
   "source": [
    "rendersquare(x) = Img(RayTrace.render(x, width = 224, height = 224))"
   ]
  },
  {
   "cell_type": "markdown",
   "metadata": {},
   "source": [
    "Define Prior Distribution over Scenes"
   ]
  },
  {
   "cell_type": "code",
   "execution_count": 7,
   "metadata": {},
   "outputs": [
    {
     "name": "stderr",
     "output_type": "stream",
     "text": [
      "WARNING: redefining constant nspheres\n",
      "WARNING: redefining constant scene\n",
      "WARNING: redefining constant img\n"
     ]
    },
    {
     "data": {
      "text/plain": [
       "showscene"
      ]
     },
     "execution_count": 7,
     "metadata": {},
     "output_type": "execute_result"
    }
   ],
   "source": [
    "const nspheres = poisson(3) + 1\n",
    "\n",
    "\"Random Variable over Spheres\"\n",
    "function sphere_(ω)\n",
    "  msphere(Point(uniform(ω[@id], -6.0, 6.0), uniform(ω[@id], -1.0, 1.0), uniform(ω[@id], -30.0, -10.0)),\n",
    "          uniform(ω[@id], 1.0, 5.0),\n",
    "          Vec3(uniform(ω[@id], 0.0, 1.0), uniform(ω[@id], 0.0, 1.0), uniform(ω[@id], 0.0, 1.0)),\n",
    "          1.0,\n",
    "          0.0,\n",
    "          Vec3(0.0, 0.0, 0.0))\n",
    "end\n",
    "\n",
    "\"Random Variable over scenes\"\n",
    "function scene_(ω)\n",
    "  spheres = [sphere_(ω[i]) for i = 1:nspheres(ω)]\n",
    "  base = msphere(Point(0.0, -10004, -20), 10000.0, Vec3(0.20, 0.20, 0.20), 0.0, 0.0, Vec3(0.0, 0.0, 0.0))\n",
    "  light = msphere(Point(0.0, 20.0, -30), 3.0, zeros(Vec3), 0.0, 0.0, Vec3(3.0, 3.0, 3.0))\n",
    "  push!(spheres, base)\n",
    "  push!(spheres, light)\n",
    "  scene = ListScene(spheres)\n",
    "end\n",
    "const scene = ciid(scene_)                # Random Variable of scenes\n",
    "const img = lift(rendersquare)(scene)     # Prior distribution over images\n",
    "\n",
    "\"Show a scene\"\n",
    "showscene(scene) = rgb.(render(scene; width = 500, height = 500)')"
   ]
  },
  {
   "cell_type": "markdown",
   "metadata": {},
   "source": [
    "Sample from Prior"
   ]
  },
  {
   "cell_type": "code",
   "execution_count": 12,
   "metadata": {},
   "outputs": [
    {
     "name": "stderr",
     "output_type": "stream",
     "text": [
      "IOPub data rate exceeded.\n",
      "The notebook server will temporarily stop sending output\n",
      "to the client in order to avoid crashing it.\n",
      "To change this limit, set the config variable\n",
      "`--NotebookApp.iopub_data_rate_limit`.\n"
     ]
    }
   ],
   "source": [
    "showscene(rand(scene))"
   ]
  },
  {
   "cell_type": "markdown",
   "metadata": {},
   "source": [
    "Another Sample"
   ]
  },
  {
   "cell_type": "code",
   "execution_count": 5,
   "metadata": {},
   "outputs": [
    {
     "data": {
      "text/plain": [
       "InvRayTrace.Img{Array{GeometryTypes.Vec{3,Float64},2}}(GeometryTypes.Vec{3,Float64}[[1.0, 1.0, 1.0] [1.0, 1.0, 1.0] … [0.437706, 0.437706, 0.437706] [0.437132, 0.437132, 0.437132]; [1.0, 1.0, 1.0] [1.0, 1.0, 1.0] … [0.437764, 0.437764, 0.437764] [0.437189, 0.437189, 0.437189]; … ; [1.0, 1.0, 1.0] [1.0, 1.0, 1.0] … [0.437648, 0.437648, 0.437648] [0.437075, 0.437075, 0.437075]; [1.0, 1.0, 1.0] [1.0, 1.0, 1.0] … [0.437589, 0.437589, 0.437589] [0.437018, 0.437018, 0.437018]])"
      ]
     },
     "execution_count": 5,
     "metadata": {},
     "output_type": "execute_result"
    }
   ],
   "source": [
    "showscene(rand(scene))\n",
    "\n",
    "\"Example scene to create observed image\"\n",
    "function obs_scene()\n",
    "  scene = [msphere(Point(0.0, -10004, -20), 10000.0, Vec3(0.20, 0.20, 0.20), 0.0, 0.0, Vec3(0.0, 0.0, 0.0)),\n",
    "           msphere(Point(0.0, 0.0, -20), 4.0, Vec3(1.0, 0.32, 0.36), 1.0, 0.5, zeros(Vec3)),\n",
    "           msphere(Point(5.0, 1.0, -15), 2.0, Vec3(0.90, 0.76, 0.46), 1.0, 0.0, zeros(Vec3)),\n",
    "           msphere(Point(5.0, 0.0, -25), 3.0, Vec3(0.65, 0.77, 0.970), 1.0, 0.0, zeros(Vec3)),\n",
    "           msphere(Point(-5.5,      0, -15), 3.0, Vec3(0.90, 0.90, 0.90), 1.0, 0.0, zeros(Vec3)),\n",
    "           msphere(Point(0.0, 20.0, -30), 3.0, zeros(Vec3), 0.0, 0.0, Vec3(3.0, 3.0, 3.0))]\n",
    "  RayTrace.ListScene(scene)\n",
    "end\n",
    "\n",
    "const img_obs = rendersquare(obs_scene())"
   ]
  },
  {
   "cell_type": "markdown",
   "metadata": {},
   "source": [
    "Show the observation"
   ]
  },
  {
   "cell_type": "code",
   "execution_count": 6,
   "metadata": {},
   "outputs": [
    {
     "data": {
      "text/plain": [
       "sampleposterior_noi (generic function with 2 methods)"
      ]
     },
     "execution_count": 6,
     "metadata": {},
     "output_type": "execute_result"
    }
   ],
   "source": [
    "showscene(obs_scene())\n",
    "\n",
    "function sampleposterior(n = 1000)\n",
    "  samples = rand(scene, img ==ₛ img_obs, n; alg = SSMH)\n",
    "end\n",
    "\n",
    "scenesamples = sampleposterior()\n",
    "showscene(scenesamples[end])\n",
    "\n",
    "function sampleposterior_noi(n = 50000; noi = false, alg = SSMH, gamma = 1.0, kwargs...)\n",
    "  logdir = Random.randstring()\n",
    "  noipred = Omega.lift(nointersect)(scene)\n",
    "  obspred = img ==ₛ img_obs\n",
    "  pred = noi ? (gamma * noipred) & obspred : obspred\n",
    "  samples = rand(scene, pred, n, alg = alg, kwargs...)\n",
    "  samples\n",
    "end#-"
   ]
  },
  {
   "cell_type": "markdown",
   "metadata": {},
   "source": [
    "*This notebook was generated using [Literate.jl](https://github.com/fredrikekre/Literate.jl).*"
   ]
  }
 ],
 "metadata": {
  "@webio": {
   "lastCommId": "2816A0E3ABCF4D1EBCAA2865BB95AB64",
   "lastKernelId": "8c763ca4-9416-4ff2-82cf-1296c8a3e092"
  },
  "kernelspec": {
   "display_name": "Julia 1.0.2",
   "language": "julia",
   "name": "julia-1.0"
  },
  "language_info": {
   "file_extension": ".jl",
   "mimetype": "application/julia",
   "name": "julia",
   "version": "1.0.2"
  }
 },
 "nbformat": 4,
 "nbformat_minor": 3
}
